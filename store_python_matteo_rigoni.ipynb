{
  "nbformat": 4,
  "nbformat_minor": 0,
  "metadata": {
    "colab": {
      "provenance": [],
      "authorship_tag": "ABX9TyOhfJ7VG2cX2V73jiscYHWl",
      "include_colab_link": true
    },
    "kernelspec": {
      "name": "python3",
      "display_name": "Python 3"
    },
    "language_info": {
      "name": "python"
    }
  },
  "cells": [
    {
      "cell_type": "markdown",
      "metadata": {
        "id": "view-in-github",
        "colab_type": "text"
      },
      "source": [
        "<a href=\"https://colab.research.google.com/github/MatteoRigoni/store_python/blob/master/store_python_matteo_rigoni.ipynb\" target=\"_parent\"><img src=\"https://colab.research.google.com/assets/colab-badge.svg\" alt=\"Open In Colab\"/></a>"
      ]
    },
    {
      "cell_type": "markdown",
      "source": [
        "## Gestione di negozio per vegani\n",
        "**Requisiti**\n",
        "*  Registrare nuovi prodotti, con nome, quantità, prezzo di vendita e prezzo di acquisto.\n",
        "*  Elencare tutti i prodotti presenti.\n",
        "*  Registrare le vendite effettuate.\n",
        "*  Mostrare i profitti lordi e netti.\n",
        "*  Mostrare un menu di aiuto con tutti i comandi disponibili."
      ],
      "metadata": {
        "id": "ZROzS8DHvuFr"
      }
    },
    {
      "cell_type": "markdown",
      "source": [
        "\n",
        "\n",
        "> Class to manage persistance on JSON files\n",
        "*  *store_products*: contains all products available in the store with key on product name.\n",
        "*  *selling_products*: contains all selling items as raw list.\n",
        "\n"
      ],
      "metadata": {
        "id": "DAjm4lA7B0pc"
      }
    },
    {
      "cell_type": "code",
      "source": [
        "import json\n",
        "from os import path\n",
        "\n",
        "class Persistance:\n",
        "\n",
        "  filename_store = \"store_products.json\"\n",
        "  filename_selling = \"selling_products.json\"\n",
        "\n",
        "  def load_products(self):\n",
        "    if path.exists(self.filename_store):\n",
        "      with open(self.filename_store, 'r') as file:\n",
        "        return json.load(file)\n",
        "    else:\n",
        "      return {}\n",
        "\n",
        "  def save_products(self, products):\n",
        "    with open(self.filename_store, 'w') as file:\n",
        "      json.dump(products, file)\n",
        "\n",
        "  def load_sellings(self):\n",
        "    if path.exists(self.filename_selling):\n",
        "      with open(self.filename_selling, 'r') as file:\n",
        "        return json.load(file)\n",
        "    else:\n",
        "      return {}\n",
        "\n",
        "\n",
        "  def append_sellings(self, sellings):\n",
        "    if path.exists(self.filename_selling):\n",
        "      with open(self.filename_selling, 'r') as file:\n",
        "          existing_sellings = json.load(file)\n",
        "    else:\n",
        "      existing_sellings = []\n",
        "\n",
        "    for selling in sellings:\n",
        "        selling_data = {\n",
        "            'name': selling,\n",
        "            'quantity': sellings[selling]['quantity'],\n",
        "            'sellPrice': sellings[selling]['sellPrice'],\n",
        "            'buyPrice': sellings[selling]['buyPrice']}\n",
        "        existing_sellings.append(selling_data)\n",
        "\n",
        "    if len(existing_sellings) > 0:\n",
        "      with open(self.filename_selling, 'w') as file:\n",
        "        json.dump(existing_sellings, file)"
      ],
      "metadata": {
        "id": "OiiXODivB8QG"
      },
      "execution_count": 117,
      "outputs": []
    },
    {
      "cell_type": "markdown",
      "source": [
        "\n",
        "\n",
        "> Show to user all possible commands\n",
        "\n"
      ],
      "metadata": {
        "id": "UJ43d1Ox4QVV"
      }
    },
    {
      "cell_type": "code",
      "source": [
        "def command_help():\n",
        "    print(\"\"\"\n",
        "    aggiungi: aggiungi un prodotto al magazzino\n",
        "    elenca: elenca i prodotto in magazzino\n",
        "    vendita: registra una vendita effettuata\n",
        "    profitti: mostra i profitti totali\n",
        "    aiuto: mostra i possibili comandi\n",
        "    chiudi: esci dal programma\n",
        "    \"\"\")"
      ],
      "metadata": {
        "id": "-N_FH_Tl3uUV"
      },
      "execution_count": 118,
      "outputs": []
    },
    {
      "cell_type": "markdown",
      "source": [
        "\n",
        "\n",
        "> Add a new product or update quantity of existing one\n",
        "\n"
      ],
      "metadata": {
        "id": "E-SURUFf8Or-"
      }
    },
    {
      "cell_type": "code",
      "source": [
        "def add_product():\n",
        "  name = input(\"Nome del prodotto: \").strip()\n",
        "  quantity = int(input(\"Quantità: \").strip())\n",
        "\n",
        "  products = Persistance().load_products()\n",
        "\n",
        "  if name in products:\n",
        "    products[name]['quantity'] += quantity\n",
        "  else:\n",
        "    buyPrice = float(input(\"Prezzo di acquisto: \").strip())\n",
        "    sellPrice = float(input(\"Prezzo di vendita: \").strip())\n",
        "    products[name] = { 'quantity': quantity, 'buyPrice': buyPrice, 'sellPrice': sellPrice }\n",
        "\n",
        "  Persistance().save_products(products)\n",
        "\n",
        "  print(f\"{quantity} X {name}\")"
      ],
      "metadata": {
        "id": "zexJLhqE8XXz"
      },
      "execution_count": 119,
      "outputs": []
    },
    {
      "cell_type": "markdown",
      "source": [
        "\n",
        "\n",
        "> Selling of one or more products, if available in the store\n",
        "\n"
      ],
      "metadata": {
        "id": "XkNupO_pKncR"
      }
    },
    {
      "cell_type": "code",
      "source": [
        "def sell_products():\n",
        "  products = Persistance().load_products()\n",
        "  sellings = {}\n",
        "\n",
        "  while True:\n",
        "    name = input(\"Nome del prodotto: \").strip()\n",
        "\n",
        "    if name in products:\n",
        "      quantity = int(input(\"Quantità: \").strip())\n",
        "      if products[name]['quantity'] < quantity:\n",
        "        print(f\"Sono disponibili solo {products[name]['quantity']} pezzi!\");\n",
        "      else:\n",
        "        products[name]['quantity'] -= quantity\n",
        "        if name in sellings:\n",
        "          sellings[name]['quantity'] += quantity\n",
        "        else:\n",
        "          sellings[name] = { 'quantity': quantity, 'sellPrice': products[name]['sellPrice'], 'buyPrice': products[name]['buyPrice']  }\n",
        "    else:\n",
        "      print(\"Prodotto non disponibile, riprova nei prossimi giorni!\")\n",
        "\n",
        "    command = input(\"Aggiungere un altro prodotto? (si/no): \")\n",
        "    if command == \"no\":\n",
        "      break;\n",
        "\n",
        "  Persistance().save_products(products)\n",
        "  Persistance().append_sellings(sellings)\n",
        "\n",
        "  if len(sellings) > 0:\n",
        "    print(\"VENDITA REGISTRATA\")\n",
        "\n",
        "    total = 0\n",
        "    for name in sellings:\n",
        "      print(f\"- {sellings[name]['quantity']} X {name}: € {sellings[name]['sellPrice']:.2f}\")\n",
        "      total += sellings[name]['quantity'] * sellings[name]['sellPrice']\n",
        "\n",
        "    print(f\"Totale: € {total:.2f}\")"
      ],
      "metadata": {
        "id": "WV2yeyW1Knca"
      },
      "execution_count": 120,
      "outputs": []
    },
    {
      "cell_type": "markdown",
      "source": [
        "\n",
        "\n",
        "> Fetch of all products from store and display in tabular format\n",
        "\n"
      ],
      "metadata": {
        "id": "7L0S46WvH-0P"
      }
    },
    {
      "cell_type": "code",
      "source": [
        "from tabulate import tabulate\n",
        "\n",
        "def list_products():\n",
        "  products = Persistance().load_products()\n",
        "  table = [[name, details['quantity'], f\"€ {details['sellPrice']:.2f}\"] for name, details in products.items()]\n",
        "  print(tabulate(table, headers=[\"Nome\", \"Quantità\", \"Prezzo Unitario\"], tablefmt=\"grid\"))"
      ],
      "metadata": {
        "id": "ucFxCNRTH-0R"
      },
      "execution_count": 121,
      "outputs": []
    },
    {
      "cell_type": "markdown",
      "source": [
        "> Calculate global selling income and profit"
      ],
      "metadata": {
        "id": "vNDVcHEqLFyn"
      }
    },
    {
      "cell_type": "code",
      "source": [
        "def calc_profit():\n",
        "  sellings = Persistance().load_sellings()\n",
        "\n",
        "  total = 0\n",
        "  for selling in sellings:\n",
        "    total += selling['quantity'] * selling['sellPrice']\n",
        "\n",
        "  profit = 0\n",
        "  for selling in sellings:\n",
        "    profit += selling['quantity'] * (selling['sellPrice'] - selling['buyPrice'])\n",
        "\n",
        "  print(f\"Profitto: lordo: € {total:.2f}, netto: € {profit:.2f}\")"
      ],
      "metadata": {
        "id": "BhJcKb2qLNxn"
      },
      "execution_count": 122,
      "outputs": []
    },
    {
      "cell_type": "markdown",
      "source": [
        "\n",
        "\n",
        "> User's interaction\n",
        "\n"
      ],
      "metadata": {
        "id": "PKYj8zAM8CAy"
      }
    },
    {
      "cell_type": "code",
      "source": [
        "\n",
        "while True:\n",
        "  try:\n",
        "    command = input(\"Inserisci un comando: \").strip()\n",
        "    match command:\n",
        "      case \"aiuto\":\n",
        "        command_help()\n",
        "      case \"aggiungi\":\n",
        "        add_product()\n",
        "      case \"elenca\":\n",
        "        list_products()\n",
        "      case \"vendita\":\n",
        "        sell_products()\n",
        "      case \"profitti\":\n",
        "        calc_profit()\n",
        "      case \"chiudi\":\n",
        "        print(\"Alla prossima!\")\n",
        "        break\n",
        "      case _:\n",
        "        print(\"Comando non valido!\", \"I comandi dispononibili sono:\")\n",
        "        command_help()\n",
        "  except KeyboardInterrupt:\n",
        "    pass\n",
        "  except Exception as error:\n",
        "    print(f\"Errore non gestito, contatta l'assistenza!\", error)"
      ],
      "metadata": {
        "id": "s3yHJW7qwTON"
      },
      "execution_count": null,
      "outputs": []
    },
    {
      "cell_type": "code",
      "source": [],
      "metadata": {
        "id": "GQP9zyFf-HX1"
      },
      "execution_count": 123,
      "outputs": []
    }
  ]
}